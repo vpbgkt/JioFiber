{
 "cells": [
  {
   "cell_type": "code",
   "execution_count": null,
   "id": "9dddefad-9699-4efc-9624-206a3c0f9f88",
   "metadata": {},
   "outputs": [],
   "source": [
    "from selenium import webdriver\n",
    "from selenium.webdriver.common.keys import Keys\n",
    "from selenium.webdriver.common.by import By\n",
    "import time\n",
    "\n",
    "print('Provide few details of your fiber pannel: 192.168.29.1')\n",
    "Fiber_usrnm = input('Type your fiber pannel Username : ')\n",
    "fiber_pwd  =  input('Type your fiber pannel password : ')\n",
    "sleep_time = time.sleep\n",
    "\n",
    "driver = webdriver.Firefox()\n",
    "driver.get(\"http://192.168.29.1\")\n",
    "elem = driver.find_element(By.NAME, 'users.username')\n",
    "elem.send_keys(Fiber_usrnm)\n",
    "elem = driver.find_element(By.NAME, 'users.password')\n",
    "elem.send_keys(fiber_pwd)\n",
    "elem.send_keys(Keys.RETURN)\n",
    "sleep_time(2)\n",
    "\n",
    "Administration = driver.find_element(By.ID, \"mainMenu5\")\n",
    "Administration.send_keys(Keys.RETURN)\n",
    "sleep_time(1)\n",
    "\n",
    "Maintenance  = driver.find_element(By.ID, \"tf1_administration_backupRestore\")\n",
    "Maintenance.send_keys(Keys.RETURN)\n",
    "sleep_time(2)\n",
    "\n",
    "Reboot = driver.find_element(By.NAME, \"button.reboot.statusPage\")\n",
    "Reboot.send_keys(Keys.RETURN)\n",
    "sleep_time(2)\n",
    "alert = driver.switch_to.alert\n",
    "alert.accept()\n",
    "sleep_time(5)\n",
    "driver.close()\n",
    "print('Your Job completed')"
   ]
  }
 ],
 "metadata": {
  "kernelspec": {
   "display_name": "Python 3 (ipykernel)",
   "language": "python",
   "name": "python3"
  },
  "language_info": {
   "codemirror_mode": {
    "name": "ipython",
    "version": 3
   },
   "file_extension": ".py",
   "mimetype": "text/x-python",
   "name": "python",
   "nbconvert_exporter": "python",
   "pygments_lexer": "ipython3",
   "version": "3.12.0"
  }
 },
 "nbformat": 4,
 "nbformat_minor": 5
}
